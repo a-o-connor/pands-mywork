{
 "cells": [
  {
   "cell_type": "code",
   "execution_count": 2,
   "metadata": {},
   "outputs": [
    {
     "data": {
      "text/plain": [
       "array([44904, 73187, 72767, 47384, 42457, 41475, 27932, 61261, 25289,\n",
       "       67236])"
      ]
     },
     "execution_count": 2,
     "metadata": {},
     "output_type": "execute_result"
    }
   ],
   "source": [
    "# Write a program that makes a list, called salaries, that has (say 10) random\n",
    "# numbers (20000 – 80000)\n",
    "\n",
    "import numpy as np\n",
    "\n",
    "rng = np.random.default_rng()\n",
    "\n",
    "salaries = rng.integers(low = 20000, high = 80000, size = 10)\n",
    "salaries\n"
   ]
  },
  {
   "cell_type": "code",
   "execution_count": 30,
   "metadata": {},
   "outputs": [
    {
     "data": {
      "text/plain": [
       "array([66613, 44921, 67050, 75945, 30707, 35653, 54187, 50026, 23880,\n",
       "       42436], dtype=int64)"
      ]
     },
     "execution_count": 30,
     "metadata": {},
     "output_type": "execute_result"
    }
   ],
   "source": [
    "# Modify so that the random salaries are the same each time \n",
    "rng = np.random.default_rng(seed = 12309847329)\n",
    "\n",
    "salaries = rng.integers(low = 20000, high = 80000, size = 10)\n",
    "salaries\n"
   ]
  },
  {
   "cell_type": "code",
   "execution_count": 13,
   "metadata": {},
   "outputs": [
    {
     "data": {
      "text/plain": [
       "array([71613, 49921, 72050, 80945, 35707, 40653, 59187, 55026, 28880,\n",
       "       47436], dtype=int64)"
      ]
     },
     "execution_count": 13,
     "metadata": {},
     "output_type": "execute_result"
    }
   ],
   "source": [
    "# Add 5000 to each of the salaries\n",
    "\n",
    "salaries + 5000"
   ]
  },
  {
   "cell_type": "code",
   "execution_count": 19,
   "metadata": {},
   "outputs": [],
   "source": [
    "# Increase all salaries by 5%\n",
    "\n",
    "salary_inc = salaries + salaries*0.05"
   ]
  },
  {
   "cell_type": "code",
   "execution_count": 23,
   "metadata": {},
   "outputs": [
    {
     "data": {
      "text/plain": [
       "array([69943, 47167, 70402, 79742, 32242, 37435, 56896, 52527, 25074,\n",
       "       44557])"
      ]
     },
     "execution_count": 23,
     "metadata": {},
     "output_type": "execute_result"
    }
   ],
   "source": [
    "# Convert to an integer\n",
    "# int(salary_inc) did not work\n",
    "salary_inc.astype(int)"
   ]
  },
  {
   "cell_type": "code",
   "execution_count": 31,
   "metadata": {},
   "outputs": [
    {
     "data": {
      "text/plain": [
       "(array([1., 1., 1., 1., 1., 2., 0., 0., 2., 1.]),\n",
       " array([23880. , 29086.5, 34293. , 39499.5, 44706. , 49912.5, 55119. ,\n",
       "        60325.5, 65532. , 70738.5, 75945. ]),\n",
       " <BarContainer object of 10 artists>)"
      ]
     },
     "execution_count": 31,
     "metadata": {},
     "output_type": "execute_result"
    },
    {
     "data": {
      "image/png": "[encoded data removed]",
      "text/plain": [
       "<Figure size 640x480 with 1 Axes>"
      ]
     },
     "metadata": {},
     "output_type": "display_data"
    }
   ],
   "source": [
    "import matplotlib.pyplot as plt\n",
    "plt.hist(salaries)"
   ]
  },
  {
   "cell_type": "code",
   "execution_count": 5,
   "metadata": {},
   "outputs": [],
   "source": [
    "# #1. Write program that has a list of counties, make it a long list (pick from five\n",
    "# counties). Make some counties appear more than others. Make a pie chart of the\n",
    "# counties\n",
    "\n",
    "import numpy as np\n",
    "import matplotlib.pyplot as plt\n"
   ]
  },
  {
   "cell_type": "code",
   "execution_count": 14,
   "metadata": {},
   "outputs": [
    {
     "data": {
      "text/plain": [
       "array(['Dublin', 'Dublin', 'Dublin', 'Dublin', 'Galway', 'Westmeath|',\n",
       "       'Dublin', 'Westmeath|', 'Westmeath|', 'Dublin', 'Meath', 'Meath',\n",
       "       'Mayo', 'Mayo', 'Mayo', 'Mayo', 'Mayo', 'Sligo', 'Westmeath|',\n",
       "       'Westmeath|', 'Westmeath|', 'Westmeath|', 'Meath', 'Meath',\n",
       "       'Sligo', 'Meath', 'Mayo', 'Sligo', 'Westmeath|', 'Westmeath|',\n",
       "       'Dublin', 'Galway', 'Westmeath|', 'Westmeath|', 'Westmeath|',\n",
       "       'Mayo', 'Meath', 'Galway', 'Galway', 'Dublin', 'Sligo',\n",
       "       'Westmeath|', 'Galway', 'Mayo', 'Dublin', 'Meath', 'Dublin',\n",
       "       'Galway', 'Westmeath|', 'Dublin', 'Meath', 'Galway', 'Galway',\n",
       "       'Mayo', 'Westmeath|', 'Sligo', 'Meath', 'Galway', 'Meath', 'Mayo',\n",
       "       'Westmeath|', 'Meath', 'Westmeath|', 'Dublin', 'Galway', 'Meath',\n",
       "       'Galway', 'Dublin', 'Mayo', 'Westmeath|', 'Galway', 'Dublin',\n",
       "       'Dublin', 'Sligo', 'Mayo', 'Dublin', 'Mayo', 'Meath', 'Sligo',\n",
       "       'Sligo', 'Galway', 'Dublin', 'Meath', 'Meath', 'Dublin', 'Sligo',\n",
       "       'Meath', 'Sligo', 'Dublin', 'Galway', 'Meath', 'Westmeath|',\n",
       "       'Sligo', 'Sligo', 'Dublin', 'Meath', 'Westmeath|', 'Meath',\n",
       "       'Meath', 'Galway', 'Dublin', 'Sligo', 'Mayo', 'Mayo', 'Galway',\n",
       "       'Westmeath|', 'Sligo', 'Mayo', 'Westmeath|', 'Galway',\n",
       "       'Westmeath|', 'Sligo', 'Meath', 'Mayo', 'Meath', 'Sligo', 'Meath',\n",
       "       'Sligo', 'Westmeath|', 'Sligo', 'Meath', 'Meath', 'Dublin',\n",
       "       'Westmeath|', 'Mayo', 'Mayo', 'Meath', 'Westmeath|', 'Galway',\n",
       "       'Sligo'], dtype='<U10')"
      ]
     },
     "execution_count": 14,
     "metadata": {},
     "output_type": "execute_result"
    }
   ],
   "source": [
    "counties = np.array([\"Dublin\", \"Meath\", \"Westmeath|\",\"Galway\", \"Mayo\", \"Sligo\"]) \n",
    "type(counties)\n",
    "np.random.choice(counties,\n",
    "                 size = 130)"
   ]
  },
  {
   "cell_type": "code",
   "execution_count": null,
   "metadata": {},
   "outputs": [],
   "source": []
  }
 ],
 "metadata": {
  "kernelspec": {
   "display_name": "base",
   "language": "python",
   "name": "python3"
  },
  "language_info": {
   "codemirror_mode": {
    "name": "ipython",
    "version": 3
   },
   "file_extension": ".py",
   "mimetype": "text/x-python",
   "name": "python",
   "nbconvert_exporter": "python",
   "pygments_lexer": "ipython3",
   "version": "3.11.5"
  }
 },
 "nbformat": 4,
 "nbformat_minor": 2
}
