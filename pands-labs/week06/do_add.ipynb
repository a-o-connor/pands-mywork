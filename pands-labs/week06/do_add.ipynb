{
 "cells": [
  {
   "cell_type": "code",
   "execution_count": 5,
   "metadata": {},
   "outputs": [
    {
     "name": "stdout",
     "output_type": "stream",
     "text": [
      "Aodh O'Connor\n"
     ]
    }
   ],
   "source": [
    "#Keyword arguments\n",
    "\n",
    "def my_function(fname,lname): #This function expects two arguments\n",
    "  print(fname + \" \" + lname)\n",
    "\n",
    "my_function(lname = \"O'Connor\", fname= \"Aodh\")"
   ]
  },
  {
   "cell_type": "code",
   "execution_count": 16,
   "metadata": {},
   "outputs": [
    {
     "name": "stdout",
     "output_type": "stream",
     "text": [
      "You can't kill the (1, 2, 'b', 'rats')\n"
     ]
    }
   ],
   "source": [
    "#Arbitrary arguments: If you do not know how many arguments that will be passed into your function use *\n",
    "def my_function(*kids): #Use a * if you want to pass any number of args to the variable\n",
    "    print(f\"You can't kill the {kids}\")\n",
    "\n",
    "my_function(1,2,\"b\",\"rats\")"
   ]
  },
  {
   "cell_type": "code",
   "execution_count": 18,
   "metadata": {},
   "outputs": [
    {
     "name": "stdout",
     "output_type": "stream",
     "text": [
      "How many ('too', 'many', 'goats') have you got?\n",
      "Is too the largest\n"
     ]
    }
   ],
   "source": [
    "#Arbitrary arguments: If you do not know how many arguments that will be passed into your function use *\n",
    "def my_function(*goats):\n",
    "    print(f\"How many {goats} have you got?\")\n",
    "    print(f\"Is {goats[0]} the largest\")\n",
    "\n",
    "my_function(\"too\", \"many\",\"goats\")"
   ]
  },
  {
   "cell_type": "code",
   "execution_count": 20,
   "metadata": {},
   "outputs": [
    {
     "name": "stdout",
     "output_type": "stream",
     "text": [
      "{'fname': 'Tobias', 'l': 'Refsnes'}\n"
     ]
    }
   ],
   "source": [
    "#Abitrary keyword arguments:If you do not know how many keyword arguments that will be passed into your function **\n",
    "def my_function(**kid): #** means you don't know how many keyword arguments will be passed to your function\n",
    "  print(kid)\n",
    "\n",
    "my_function(fname = \"Tobias\", lname = \"Refsnes\") # returns a dictionary"
   ]
  },
  {
   "cell_type": "code",
   "execution_count": 21,
   "metadata": {},
   "outputs": [
    {
     "name": "stdout",
     "output_type": "stream",
     "text": [
      "I am from Sweden\n",
      "I am from India\n",
      "I am from Norway\n",
      "I am from Brazil\n"
     ]
    }
   ],
   "source": [
    "#You can have a default parameter value\n",
    "def my_function(country = \"Norway\"):\n",
    "  print(\"I am from \" + country)\n",
    "\n",
    "my_function(\"Sweden\")\n",
    "my_function(\"India\")\n",
    "my_function() # This will print I am from Norway\n",
    "my_function(\"Brazil\")"
   ]
  },
  {
   "cell_type": "code",
   "execution_count": null,
   "metadata": {},
   "outputs": [],
   "source": []
  }
 ],
 "metadata": {
  "kernelspec": {
   "display_name": "base",
   "language": "python",
   "name": "python3"
  },
  "language_info": {
   "codemirror_mode": {
    "name": "ipython",
    "version": 3
   },
   "file_extension": ".py",
   "mimetype": "text/x-python",
   "name": "python",
   "nbconvert_exporter": "python",
   "pygments_lexer": "ipython3",
   "version": "3.11.5"
  }
 },
 "nbformat": 4,
 "nbformat_minor": 2
}
