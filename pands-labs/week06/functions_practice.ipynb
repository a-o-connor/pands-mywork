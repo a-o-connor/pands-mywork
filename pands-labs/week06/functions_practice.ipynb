{
 "cells": [
  {
   "cell_type": "code",
   "execution_count": 5,
   "metadata": {},
   "outputs": [
    {
     "name": "stdout",
     "output_type": "stream",
     "text": [
      "Aodh O'Connor\n"
     ]
    }
   ],
   "source": [
    "#Keyword arguments\n",
    "\n",
    "def my_function(fname,lname): #This function expects two arguments\n",
    "  print(fname + \" \" + lname)\n",
    "\n",
    "my_function(lname = \"O'Connor\", fname= \"Aodh\")"
   ]
  },
  {
   "cell_type": "code",
   "execution_count": 16,
   "metadata": {},
   "outputs": [
    {
     "name": "stdout",
     "output_type": "stream",
     "text": [
      "You can't kill the (1, 2, 'b', 'rats')\n"
     ]
    }
   ],
   "source": [
    "#Arbitrary arguments: If you do not know how many arguments that will be passed into your function use *\n",
    "def my_function(*kids): #Use a * if you want to pass any number of args to the variable\n",
    "    print(f\"You can't kill the {kids}\")\n",
    "\n",
    "my_function(1,2,\"b\",\"rats\")"
   ]
  },
  {
   "cell_type": "code",
   "execution_count": 18,
   "metadata": {},
   "outputs": [
    {
     "name": "stdout",
     "output_type": "stream",
     "text": [
      "How many ('too', 'many', 'goats') have you got?\n",
      "Is too the largest\n"
     ]
    }
   ],
   "source": [
    "#Arbitrary arguments: If you do not know how many arguments that will be passed into your function use *\n",
    "def my_function(*goats): #Use a * if you want to pass any number of args to the variable\n",
    "    print(f\"How many {goats} have you got?\")\n",
    "    print(f\"Is {goats[0]} the largest\")\n",
    "\n",
    "my_function(\"too\", \"many\",\"goats\")"
   ]
  },
  {
   "cell_type": "code",
   "execution_count": 16,
   "metadata": {},
   "outputs": [
    {
     "name": "stdout",
     "output_type": "stream",
     "text": [
      "His first name is Tobias\n"
     ]
    }
   ],
   "source": [
    "#Abitrary keyword arguments:If you do not know how many keyword arguments that will be passed into your function **\n",
    "def my_function(**kid): #** means you don't know how many keyword arguments will be passed to your function\n",
    "  print(f\"His first name is {kid['fname']}\")\n",
    "\n",
    "my_function(fname = \"Tobias\", lname = \"Refsnes\", mname = \"A.\") # returns a dictionary"
   ]
  },
  {
   "cell_type": "code",
   "execution_count": 21,
   "metadata": {},
   "outputs": [
    {
     "name": "stdout",
     "output_type": "stream",
     "text": [
      "I am from Sweden\n",
      "I am from India\n",
      "I am from Norway\n",
      "I am from Brazil\n"
     ]
    }
   ],
   "source": [
    "#You can have a default parameter value\n",
    "def my_function(country = \"Norway\"):\n",
    "  print(\"I am from \" + country)\n",
    "\n",
    "my_function(\"Sweden\")\n",
    "my_function(\"India\")\n",
    "my_function() # This will print I am from Norway\n",
    "my_function(\"Brazil\")"
   ]
  },
  {
   "cell_type": "code",
   "execution_count": 25,
   "metadata": {},
   "outputs": [
    {
     "name": "stdout",
     "output_type": "stream",
     "text": [
      "Gay students: [{'Name': 'Ailsa'}]\n",
      "Smelly students: [{'Name': 'Evan'}]\n"
     ]
    }
   ],
   "source": [
    "def doadd(student_list):\n",
    "    student = {}\n",
    "    student[\"Name\"] = input(\"Enter student name: \")\n",
    "\n",
    "    student_list.append(student)\n",
    "\n",
    "gay_students = []\n",
    "doadd(gay_students)\n",
    "\n",
    "smelly_students = []\n",
    "doadd(smelly_students)\n",
    "\n",
    "print(f\"Gay students: {gay_students}\")\n",
    "print(f\"Smelly students: {smelly_students}\")\n"
   ]
  },
  {
   "cell_type": "code",
   "execution_count": 34,
   "metadata": {},
   "outputs": [
    {
     "name": "stdout",
     "output_type": "stream",
     "text": [
      "{'Name': 'Aodh', 'Module': {'Module name': 'Butts', 'Grade': 'A++++++'}}\n",
      "['rats', 'grelimnsns', {'Name': 'Aodh', 'Module': {'Module name': 'Butts', 'Grade': 'A++++++'}}]\n"
     ]
    }
   ],
   "source": [
    "def add_modules():\n",
    "    modules = {}\n",
    "    modules[\"Module name\"] = input(\"Name of module: \")\n",
    "    modules[\"Grade\"] = input(\"Grade student got: \")\n",
    "\n",
    "    return(modules)\n",
    "\n",
    "\n",
    "def add_student_and_module(student_and_module):\n",
    "    new_student = {}\n",
    "    new_student[\"Name\"] = input(\"Name of student: \")\n",
    "    new_student[\"Module\"] = add_modules()\n",
    "    student_and_module.append(new_student)\n",
    "\n",
    "    return new_student\n",
    "\n",
    "student_list = [\"rats\", \"grelimnsns\"]\n",
    "print(add_student_and_module(student_and_module = student_list))\n",
    "print(student_list)\n",
    "\n",
    "\n"
   ]
  },
  {
   "cell_type": "code",
   "execution_count": 39,
   "metadata": {},
   "outputs": [
    {
     "data": {
      "text/plain": [
       "['a', 's', 'd', 'r', 'q', '']"
      ]
     },
     "execution_count": 39,
     "metadata": {},
     "output_type": "execute_result"
    }
   ],
   "source": [
    "def add_modules():\n",
    "    modules = []\n",
    "    while True:\n",
    "        input_a_module = input(\"Name of module 1: \")\n",
    "        modules.append(input_a_module)\n",
    "        if input_a_module == \"\":\n",
    "            break\n",
    "    \n",
    "    return(modules)\n",
    "\n",
    "add_modules()"
   ]
  },
  {
   "cell_type": "code",
   "execution_count": 2,
   "metadata": {},
   "outputs": [
    {
     "data": {
      "text/plain": [
       "['d', '']"
      ]
     },
     "execution_count": 2,
     "metadata": {},
     "output_type": "execute_result"
    }
   ],
   "source": [
    "def add_modules():\n",
    "    modules = []\n",
    "    while True:   \n",
    "        input_a_module = input(\"Name of module 1: \")\n",
    "        modules.append(input_a_module)\n",
    "        if input_a_module == \"\":\n",
    "            break\n",
    "    \n",
    "    return(modules)\n",
    "\n",
    "add_modules()"
   ]
  },
  {
   "cell_type": "code",
   "execution_count": 1,
   "metadata": {},
   "outputs": [
    {
     "data": {
      "text/plain": [
       "[{'Module name': 'Hist', 'Module grade': '23'},\n",
       " {'Module name': 'Geo', 'Module grade': '45'},\n",
       " {'Module name': 'Comp', 'Module grade': '56'},\n",
       " {'Module name': '', 'Module grade': ''}]"
      ]
     },
     "execution_count": 1,
     "metadata": {},
     "output_type": "execute_result"
    }
   ],
   "source": [
    "def add_modules():\n",
    "    modules = []\n",
    "    \n",
    "    while True:\n",
    "        new_module = {}\n",
    "        new_module[\"Module name\"] = input(\"Name of module:(Blank to exit) \")\n",
    "        new_module[\"Module grade\"] = input(\"Grade: \")\n",
    "        modules.append(new_module)\n",
    "        if new_module[\"Module name\"] == \"\":\n",
    "            break\n",
    "    \n",
    "    return(modules)\n",
    "\n",
    "add_modules()"
   ]
  },
  {
   "cell_type": "code",
   "execution_count": 3,
   "metadata": {},
   "outputs": [
    {
     "data": {
      "text/plain": [
       "[{'Module name': 'd', 'Module grade': '3'},\n",
       " {'Module name': 'e', 'Module grade': '4'}]"
      ]
     },
     "execution_count": 3,
     "metadata": {},
     "output_type": "execute_result"
    }
   ],
   "source": [
    "def add_modules():\n",
    "    modules = []\n",
    "    module_name = input(\"Name of module:(Blank to exit) \").strip()\n",
    "    \n",
    "    while module_name != \"\":\n",
    "        new_module = {}\n",
    "        new_module[\"Module name\"] = module_name\n",
    "        new_module[\"Module grade\"] = input(\"Grade: \")\n",
    "        modules.append(new_module)\n",
    "        module_name = input(\"Next module:(Blank to exit) \").strip()\n",
    "    \n",
    "    return(modules)\n",
    "\n",
    "add_modules()"
   ]
  },
  {
   "cell_type": "code",
   "execution_count": null,
   "metadata": {},
   "outputs": [],
   "source": []
  }
 ],
 "metadata": {
  "kernelspec": {
   "display_name": "base",
   "language": "python",
   "name": "python3"
  },
  "language_info": {
   "codemirror_mode": {
    "name": "ipython",
    "version": 3
   },
   "file_extension": ".py",
   "mimetype": "text/x-python",
   "name": "python",
   "nbconvert_exporter": "python",
   "pygments_lexer": "ipython3",
   "version": "3.11.5"
  }
 },
 "nbformat": 4,
 "nbformat_minor": 2
}
