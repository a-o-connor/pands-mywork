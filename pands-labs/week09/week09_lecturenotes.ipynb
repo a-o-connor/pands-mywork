{
 "cells": [
  {
   "cell_type": "markdown",
   "metadata": {},
   "source": [
    "# Bugs and Errors\n",
    "**********\n"
   ]
  },
  {
   "cell_type": "markdown",
   "metadata": {},
   "source": [
    "- Syntax Errors\n",
    "- Runtime Exceptions\n",
    "- Semantic Errors"
   ]
  },
  {
   "cell_type": "markdown",
   "metadata": {},
   "source": [
    "## Exceptions\n",
    "https://realpython.com/python-exceptions/\n",
    "\n",
    "https://github.com/andrewbeattycourseware/pands-course-material/blob/main/jupyternotebooks/topic09-Errors-and-Exceptions.ipynb"
   ]
  },
  {
   "cell_type": "markdown",
   "metadata": {},
   "source": [
    "### Catching Exceptions\n",
    "Using ``` try ``` and ``` except ```\n",
    "```Python\n",
    "try:\n",
    "    filename = sys.argv[1]\n",
    "    print(filename)\n",
    "except IndexError as error:\n",
    "    print(\"Please enter a filename\")\n",
    "    print(error)\n",
    "except FileNotFoundError as error2:\n",
    "    print(\"File not is folder!\")\n",
    "    print(error2)\n",
    "\n",
    "```"
   ]
  },
  {
   "cell_type": "code",
   "execution_count": 7,
   "metadata": {},
   "outputs": [
    {
     "name": "stdout",
     "output_type": "stream",
     "text": [
      "this line is excecuted first\n",
      "this gets executed if there is an error\n",
      "division by zero\n"
     ]
    }
   ],
   "source": [
    "try:\n",
    "    print(\"this line is excecuted first\")\n",
    "    x = 1/0 #divide by 0 gives an error\n",
    "except ZeroDivisionError as zde:\n",
    "    print(\"this gets executed if there is an error\")\n",
    "    print(zde)"
   ]
  },
  {
   "cell_type": "code",
   "execution_count": 9,
   "metadata": {},
   "outputs": [
    {
     "name": "stdout",
     "output_type": "stream",
     "text": [
      "0.5\n",
      "This threw an error\n"
     ]
    }
   ],
   "source": [
    "def divide_by(a, b):\n",
    "    try:\n",
    "        return a/b\n",
    "    except:\n",
    "        return(\"This threw an error\")\n",
    "    \n",
    "print(divide_by(1,2))\n",
    "print(divide_by(1,\"2\"))"
   ]
  },
  {
   "cell_type": "markdown",
   "metadata": {},
   "source": [
    "## Raising an exception\n",
    "*****"
   ]
  },
  {
   "cell_type": "code",
   "execution_count": 6,
   "metadata": {},
   "outputs": [
    {
     "ename": "ValueError",
     "evalue": "Must be a positive number",
     "output_type": "error",
     "traceback": [
      "\u001b[1;31m---------------------------------------------------------------------------\u001b[0m",
      "\u001b[1;31mValueError\u001b[0m                                Traceback (most recent call last)",
      "Cell \u001b[1;32mIn[6], line 13\u001b[0m\n\u001b[0;32m      8\u001b[0m         \u001b[38;5;28mlist\u001b[39m\u001b[38;5;241m.\u001b[39mappend(a)\n\u001b[0;32m      9\u001b[0m     \u001b[38;5;28;01mreturn\u001b[39;00m \u001b[38;5;28mlist\u001b[39m\n\u001b[1;32m---> 13\u001b[0m \u001b[38;5;28mprint\u001b[39m(fibonacci(\u001b[38;5;241m-\u001b[39m\u001b[38;5;241m9\u001b[39m))\n",
      "Cell \u001b[1;32mIn[6], line 3\u001b[0m, in \u001b[0;36mfibonacci\u001b[1;34m(n)\u001b[0m\n\u001b[0;32m      1\u001b[0m \u001b[38;5;28;01mdef\u001b[39;00m \u001b[38;5;21mfibonacci\u001b[39m(n):\n\u001b[0;32m      2\u001b[0m     \u001b[38;5;28;01mif\u001b[39;00m n\u001b[38;5;241m<\u001b[39m\u001b[38;5;241m0\u001b[39m:\n\u001b[1;32m----> 3\u001b[0m         \u001b[38;5;28;01mraise\u001b[39;00m \u001b[38;5;167;01mValueError\u001b[39;00m(\u001b[38;5;124m\"\u001b[39m\u001b[38;5;124mMust be a positive number\u001b[39m\u001b[38;5;124m\"\u001b[39m)\n\u001b[0;32m      4\u001b[0m     \u001b[38;5;28mlist\u001b[39m \u001b[38;5;241m=\u001b[39m []\n\u001b[0;32m      5\u001b[0m     a,b \u001b[38;5;241m=\u001b[39m \u001b[38;5;241m0\u001b[39m,\u001b[38;5;241m1\u001b[39m\n",
      "\u001b[1;31mValueError\u001b[0m: Must be a positive number"
     ]
    }
   ],
   "source": [
    "def fibonacci(n):\n",
    "    if n<0:\n",
    "        raise ValueError(\"Must be a positive number\")\n",
    "    list = []\n",
    "    a,b = 0,1\n",
    "    while len(list)<n:\n",
    "        a,b = b, a+b\n",
    "        list.append(a)\n",
    "    return list\n",
    "\n",
    "\n",
    "\n",
    "print(fibonacci(-9))"
   ]
  },
  {
   "cell_type": "code",
   "execution_count": 7,
   "metadata": {},
   "outputs": [
    {
     "name": "stdout",
     "output_type": "stream",
     "text": [
      "Try carrying out the function\n",
      "[1, 1, 2, 3, 5, 8, 13, 21, 34]\n",
      "No error occured!\n"
     ]
    }
   ],
   "source": [
    "number = int(input(\"NUmber to try: \"))\n",
    "try:\n",
    "    print(\"Try carrying out the function\")\n",
    "    print(fibonacci(number))\n",
    "except ValueError as ve:\n",
    "    print(\"A value error occured. Error message is:\", ve)\n",
    "else:\n",
    "    print(\"No error occured!\")"
   ]
  },
  {
   "cell_type": "code",
   "execution_count": 5,
   "metadata": {},
   "outputs": [
    {
     "ename": "ValueError",
     "evalue": "Insufficient funds",
     "output_type": "error",
     "traceback": [
      "\u001b[1;31m---------------------------------------------------------------------------\u001b[0m",
      "\u001b[1;31mValueError\u001b[0m                                Traceback (most recent call last)",
      "Cell \u001b[1;32mIn[5], line 13\u001b[0m\n\u001b[0;32m     10\u001b[0m     \u001b[38;5;28;01mreturn\u001b[39;00m balance\n\u001b[0;32m     12\u001b[0m amount \u001b[38;5;241m=\u001b[39m \u001b[38;5;28mint\u001b[39m(\u001b[38;5;28minput\u001b[39m(\u001b[38;5;124m\"\u001b[39m\u001b[38;5;124mAMOUNT TO WITHDRAW\u001b[39m\u001b[38;5;124m\"\u001b[39m))\n\u001b[1;32m---> 13\u001b[0m \u001b[38;5;28mprint\u001b[39m(withdraw(amount))\n",
      "Cell \u001b[1;32mIn[5], line 8\u001b[0m, in \u001b[0;36mwithdraw\u001b[1;34m(amount)\u001b[0m\n\u001b[0;32m      6\u001b[0m     \u001b[38;5;28;01mraise\u001b[39;00m \u001b[38;5;167;01mValueError\u001b[39;00m(\u001b[38;5;124m\"\u001b[39m\u001b[38;5;124mAmount must be > 0\u001b[39m\u001b[38;5;124m\"\u001b[39m)\n\u001b[0;32m      7\u001b[0m \u001b[38;5;28;01mif\u001b[39;00m amount \u001b[38;5;241m>\u001b[39m balance:\n\u001b[1;32m----> 8\u001b[0m     \u001b[38;5;28;01mraise\u001b[39;00m \u001b[38;5;167;01mValueError\u001b[39;00m(\u001b[38;5;124m\"\u001b[39m\u001b[38;5;124mInsufficient funds\u001b[39m\u001b[38;5;124m\"\u001b[39m)\n\u001b[0;32m      9\u001b[0m balance \u001b[38;5;241m=\u001b[39m balance \u001b[38;5;241m-\u001b[39m amount\n\u001b[0;32m     10\u001b[0m \u001b[38;5;28;01mreturn\u001b[39;00m balance\n",
      "\u001b[1;31mValueError\u001b[0m: Insufficient funds"
     ]
    }
   ],
   "source": [
    "balance = 100\n",
    "\n",
    "def withdraw(amount):\n",
    "    global balance \n",
    "    if amount < 0:\n",
    "        raise ValueError(\"Amount must be > 0\")\n",
    "    if amount > balance:\n",
    "        raise ValueError(\"Insufficient funds\")\n",
    "    balance = balance - amount\n",
    "    return balance\n",
    "\n",
    "amount = int(input(\"AMOUNT TO WITHDRAW\"))\n",
    "print(withdraw(amount))\n"
   ]
  },
  {
   "cell_type": "markdown",
   "metadata": {},
   "source": []
  }
 ],
 "metadata": {
  "kernelspec": {
   "display_name": "base",
   "language": "python",
   "name": "python3"
  },
  "language_info": {
   "codemirror_mode": {
    "name": "ipython",
    "version": 3
   },
   "file_extension": ".py",
   "mimetype": "text/x-python",
   "name": "python",
   "nbconvert_exporter": "python",
   "pygments_lexer": "ipython3",
   "version": "3.11.5"
  }
 },
 "nbformat": 4,
 "nbformat_minor": 2
}
