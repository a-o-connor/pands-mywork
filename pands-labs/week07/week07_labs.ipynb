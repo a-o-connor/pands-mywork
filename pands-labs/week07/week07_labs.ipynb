{
 "cells": [
  {
   "cell_type": "code",
   "execution_count": 2,
   "metadata": {},
   "outputs": [
    {
     "name": "stdout",
     "output_type": "stream",
     "text": [
      "\n"
     ]
    }
   ],
   "source": [
    "with open(\"test-a.txt\", \"w+\") as f:\n",
    " data = f.read()\n",
    " print (data)\n"
   ]
  },
  {
   "cell_type": "code",
   "execution_count": 13,
   "metadata": {},
   "outputs": [
    {
     "name": "stdout",
     "output_type": "stream",
     "text": [
      "test b\n",
      "\n",
      "7\n",
      "another line\n",
      "\n",
      "13\n",
      "another line\n",
      "another another line\n",
      "\n",
      "21\n"
     ]
    }
   ],
   "source": [
    "with open(\"test-b.txt\", \"w+\") as f:\n",
    " data = f.write(\"test b\\n\") # returns the number of chars written\n",
    " f.seek(0)\n",
    " f_read = f.read()\n",
    " print(f_read)\n",
    " print (data)\n",
    "\n",
    "with open(\"test-b.txt\", \"w+\") as f2: # open file again\n",
    "   data2 = f2.write(\"another line\\n\") #returns number of chars\n",
    "   f2.seek(0)\n",
    "   f2_read = f2.read()\n",
    "   print(f2_read)\n",
    "   print (data2)\n",
    "\n",
    "\n",
    "with open(\"test-b.txt\", \"a+\") as f3: # open file again\n",
    "   data3 = f3.write(\"another another line\\n\")\n",
    "   f3.seek(0)\n",
    "   f3_read = f3.read()\n",
    "   print(f3_read)\n",
    "   print (data3)\n"
   ]
  },
  {
   "cell_type": "markdown",
   "metadata": {},
   "source": [
    "## Lab: Week 07\n",
    "#### Messing with files\n",
    "*******"
   ]
  },
  {
   "cell_type": "markdown",
   "metadata": {},
   "source": [
    "2. Write a program that counts how many times it was run.\n",
    "For this exercise will have to store data outside of memory, and that is accessible\n",
    "each time the program is run, (persistent data). We would normally use a\n",
    "database for something like this, but we can use a file.\n",
    "To make life easier let’s assume that the file already exists. So, we can just read\n",
    "the current count from it then overwrite it with the new count."
   ]
  },
  {
   "cell_type": "code",
   "execution_count": 23,
   "metadata": {},
   "outputs": [
    {
     "name": "stdout",
     "output_type": "stream",
     "text": [
      "0\n"
     ]
    }
   ],
   "source": [
    "#Write an empty file with the number 0 in it\n",
    "with open(\"count.txt\", \"w+\") as f:\n",
    "        f.write(\"0\")\n",
    "        f.seek(0)\n",
    "        the_count = int(f.read())\n",
    "        print(the_count)"
   ]
  },
  {
   "cell_type": "code",
   "execution_count": 28,
   "metadata": {},
   "outputs": [
    {
     "ename": "NameError",
     "evalue": "name 'the_count' is not defined",
     "output_type": "error",
     "traceback": [
      "\u001b[1;31m---------------------------------------------------------------------------\u001b[0m",
      "\u001b[1;31mNameError\u001b[0m                                 Traceback (most recent call last)",
      "Cell \u001b[1;32mIn[28], line 1\u001b[0m\n\u001b[1;32m----> 1\u001b[0m \u001b[38;5;28;01mdel\u001b[39;00m(the_count, f)\n",
      "\u001b[1;31mNameError\u001b[0m: name 'the_count' is not defined"
     ]
    }
   ],
   "source": [
    "del(the_count, f)"
   ]
  },
  {
   "cell_type": "code",
   "execution_count": 27,
   "metadata": {},
   "outputs": [
    {
     "name": "stdout",
     "output_type": "stream",
     "text": [
      "0\n"
     ]
    }
   ],
   "source": [
    "#Write a function that reads in a number from count.txt\n",
    "\n",
    "def read_number(file):\n",
    "    with open(file, \"r\") as f:\n",
    "        the_count = int(f.read())\n",
    "        print(the_count)\n",
    "\n",
    "read_number(\"count.txt\")"
   ]
  },
  {
   "cell_type": "code",
   "execution_count": 33,
   "metadata": {},
   "outputs": [
    {
     "name": "stdout",
     "output_type": "stream",
     "text": [
      "1\n"
     ]
    }
   ],
   "source": [
    "# Write a function that takes in a number and overwrites a file with that number\n",
    "\n",
    "def overwrite_number(file, number):\n",
    "    with open(file, \"w+\") as f:\n",
    "        f.write(str(number))\n",
    "        f.seek(0)\n",
    "        the_count = int(f.read())\n",
    "        print(the_count)\n",
    "\n",
    "overwrite_number(\"count.txt\", 1)\n"
   ]
  },
  {
   "cell_type": "code",
   "execution_count": null,
   "metadata": {},
   "outputs": [],
   "source": [
    "def read_number(file):\n",
    "    with open(file, \"r\") as f:\n",
    "        the_count = int(f.read())\n",
    "        print(the_count)\n",
    "\n",
    "read_number(\"count.txt\")\n",
    "\n",
    "def overwrite_number(file, number):\n",
    "    with open(file, \"w+\") as f:\n",
    "        f.write(str(number))\n",
    "        f.seek(0)\n",
    "        the_count = int(f.read())\n",
    "        print(the_count)\n",
    "\n",
    "overwrite_number(\"count.txt\", 1)\n",
    "\n",
    "num = read_number(\"count.txt\")\n",
    "num = num + 1\n",
    "print(f\"This has been run \")"
   ]
  }
 ],
 "metadata": {
  "kernelspec": {
   "display_name": "base",
   "language": "python",
   "name": "python3"
  },
  "language_info": {
   "codemirror_mode": {
    "name": "ipython",
    "version": 3
   },
   "file_extension": ".py",
   "mimetype": "text/x-python",
   "name": "python",
   "nbconvert_exporter": "python",
   "pygments_lexer": "ipython3",
   "version": "3.11.5"
  }
 },
 "nbformat": 4,
 "nbformat_minor": 2
}
