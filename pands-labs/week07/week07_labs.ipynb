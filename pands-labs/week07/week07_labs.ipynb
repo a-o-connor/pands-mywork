{
 "cells": [
  {
   "cell_type": "code",
   "execution_count": 6,
   "metadata": {},
   "outputs": [
    {
     "name": "stdout",
     "output_type": "stream",
     "text": [
      "This file has been deleted\n"
     ]
    }
   ],
   "source": [
    "#Does the file exist already? If so delete it. \n",
    "import os \n",
    "\n",
    "if os.path.exists(\"test-a.txt\"):\n",
    "    os.remove(\"test-a.txt\")\n",
    "    print(\"This file has been deleted\")\n",
    "else:\n",
    "    print(\"This never existed\")"
   ]
  },
  {
   "cell_type": "code",
   "execution_count": 3,
   "metadata": {},
   "outputs": [
    {
     "name": "stdout",
     "output_type": "stream",
     "text": [
      "\n"
     ]
    }
   ],
   "source": [
    "#Create an empty file call test-a.txt\n",
    "\n",
    "with open(\"test-a.txt\", \"w+\") as f:\n",
    " data = f.read()\n",
    " print (data)\n"
   ]
  },
  {
   "cell_type": "code",
   "execution_count": 4,
   "metadata": {},
   "outputs": [
    {
     "name": "stdout",
     "output_type": "stream",
     "text": [
      "test b\n",
      "\n",
      "7\n",
      "another line\n",
      "\n",
      "13\n",
      "another line\n",
      "another another line\n",
      "\n",
      "21\n"
     ]
    }
   ],
   "source": [
    "#Create an empty file test-b.txt and write the words test b in it. \n",
    "with open(\"test-b.txt\", \"w+\") as f:\n",
    " data = f.write(\"test b\\n\") # returns the number of chars written\n",
    " f.seek(0)                  # Make sure to move the pointer back to the start of the doc \n",
    " f_read = f.read()            \n",
    " print(f_read)\n",
    " print (data)\n",
    "\n",
    "with open(\"test-b.txt\", \"w+\") as f2: # open file again\n",
    "   data2 = f2.write(\"another line\\n\") #returns number of chars\n",
    "   f2.seek(0)\n",
    "   f2_read = f2.read()\n",
    "   print(f2_read)                      #The first line has been overwritten because mode is w+\n",
    "   print (data2)\n",
    "\n",
    "\n",
    "with open(\"test-b.txt\", \"a+\") as f3: # open file again\n",
    "   data3 = f3.write(\"another another line\\n\")\n",
    "   f3.seek(0)\n",
    "   f3_read = f3.read()\n",
    "   print(f3_read) #The file has been appended to and not overwritten because mode is a+\n",
    "   print (data3)\n"
   ]
  },
  {
   "cell_type": "markdown",
   "metadata": {},
   "source": [
    "## Lab: Week 07\n",
    "#### Messing with files\n",
    "*******"
   ]
  },
  {
   "cell_type": "markdown",
   "metadata": {},
   "source": [
    "Write a program that counts how many times it was run.\n",
    "For this exercise will have to store data outside of memory, and that is accessible\n",
    "each time the program is run, (persistent data). We would normally use a\n",
    "database for something like this, but we can use a file.\n",
    "To make life easier let’s assume that the file already exists. So, we can just read\n",
    "the current count from it then overwrite it with the new count."
   ]
  },
  {
   "cell_type": "code",
   "execution_count": 7,
   "metadata": {},
   "outputs": [
    {
     "name": "stdout",
     "output_type": "stream",
     "text": [
      "0\n"
     ]
    }
   ],
   "source": [
    "#Write an empty file with the number 0 in it\n",
    "with open(\"count.txt\", \"w+\") as f:\n",
    "        f.write(\"0\")\n",
    "        f.seek(0)\n",
    "        the_count = int(f.read())\n",
    "        print(the_count)"
   ]
  },
  {
   "cell_type": "code",
   "execution_count": 8,
   "metadata": {},
   "outputs": [
    {
     "name": "stdout",
     "output_type": "stream",
     "text": [
      "1\n"
     ]
    }
   ],
   "source": [
    "# Write a function that takes in a number and overwrites a file with that number\n",
    "\n",
    "def overwrite_number(file, number):\n",
    "    with open(file, \"w+\") as f:\n",
    "        f.write(str(number))\n",
    "        f.seek(0)\n",
    "        the_count = int(f.read())\n",
    "        print(the_count)\n",
    "\n",
    "overwrite_number(\"count.txt\", 1)\n"
   ]
  },
  {
   "cell_type": "code",
   "execution_count": 22,
   "metadata": {},
   "outputs": [
    {
     "name": "stdout",
     "output_type": "stream",
     "text": [
      "This has been run 2 times\n"
     ]
    },
    {
     "data": {
      "text/plain": [
       "2"
      ]
     },
     "execution_count": 22,
     "metadata": {},
     "output_type": "execute_result"
    }
   ],
   "source": [
    "# Write a program that, uses these two functions, to count how many times\n",
    "# the program has been run\n",
    "\n",
    "def read_number(file):\n",
    "    with open(file, \"r\") as f:\n",
    "        the_count = int(f.read())\n",
    "        return(the_count)\n",
    "\n",
    "read_number(\"count.txt\")\n",
    "\n",
    "def overwrite_number(file, number):\n",
    "    with open(file, \"w+\") as f:\n",
    "        f.write(str(number))\n",
    "        f.seek(0)\n",
    "        the_count = int(f.read())\n",
    "        return(the_count)\n",
    "\n",
    "overwrite_number(\"count.txt\", 1)\n",
    "\n",
    "num = read_number(\"count.txt\")\n",
    "num = num + 1\n",
    "print(f\"This has been run {str(num)} times\")\n",
    "overwrite_number(\"the_count.txt\", num)"
   ]
  },
  {
   "cell_type": "code",
   "execution_count": 7,
   "metadata": {},
   "outputs": [
    {
     "name": "stdout",
     "output_type": "stream",
     "text": [
      "Creating file the_count.txt\n"
     ]
    }
   ],
   "source": [
    "#If file count.txt does not already exists\n",
    "#create a function that create the file (after checking if it exists)\n",
    "\n",
    "import os \n",
    "\n",
    "\n",
    "def makefile(filename):\n",
    "    with open(filename, \"w\") as f:\n",
    "        f.write(\"0\")\n",
    "    \n",
    "def overwritefile(filename):\n",
    "\n",
    "if not os.path.isfile(\"the_count.txt\"):\n",
    "    print(\"Creating file the_count.txt\")\n",
    "    makefile(\"the_count.txt\")\n",
    "else:\n",
    "    print(\"This file already exists!\")"
   ]
  },
  {
   "cell_type": "code",
   "execution_count": 11,
   "metadata": {},
   "outputs": [],
   "source": [
    "# Write a function that will store a simple Dict to a file as JSON\n",
    "\n",
    "import json\n",
    "\n",
    "goncharov = {\n",
    "    \"year\": \"1973\",\n",
    "    \"director\":\"matteo JHWJ0715\",\n",
    "    \"producer\":\"Martin Scorsese\"\n",
    "}\n",
    "\n",
    "\n",
    "with open (\"Goncharov (1973).json\", \"w\") as g:\n",
    "    json.dump(goncharov, g) #writes the dictionary object to the file as a JSON object\n"
   ]
  },
  {
   "cell_type": "code",
   "execution_count": 12,
   "metadata": {},
   "outputs": [
    {
     "name": "stdout",
     "output_type": "stream",
     "text": [
      "{'year': '1973', 'director': 'matteo JHWJ0715', 'producer': 'Martin Scorsese'}\n"
     ]
    }
   ],
   "source": [
    "#read in a dict object from the file\n",
    "\n",
    "def read_dict(filename):\n",
    "    with open (filename, \"r\") as f:\n",
    "        gonch = json.load(f)\n",
    "        print(gonch)\n",
    "\n",
    "read_dict(\"Goncharov (1973).json\")\n",
    "\n",
    " \n"
   ]
  },
  {
   "cell_type": "code",
   "execution_count": null,
   "metadata": {},
   "outputs": [],
   "source": []
  }
 ],
 "metadata": {
  "kernelspec": {
   "display_name": "base",
   "language": "python",
   "name": "python3"
  },
  "language_info": {
   "codemirror_mode": {
    "name": "ipython",
    "version": 3
   },
   "file_extension": ".py",
   "mimetype": "text/x-python",
   "name": "python",
   "nbconvert_exporter": "python",
   "pygments_lexer": "ipython3",
   "version": "3.11.5"
  }
 },
 "nbformat": 4,
 "nbformat_minor": 2
}
