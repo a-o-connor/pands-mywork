{
 "cells": [
  {
   "cell_type": "markdown",
   "metadata": {},
   "source": [
    "# Week 07: Files \n",
    "****"
   ]
  },
  {
   "cell_type": "code",
   "execution_count": 17,
   "metadata": {},
   "outputs": [
    {
     "name": "stdout",
     "output_type": "stream",
     "text": [
      "Officer's log starddate \n",
      "icer's log starddate \n"
     ]
    }
   ],
   "source": [
    "#Opening a file in python in same directory \n",
    "#Use the with pattern\n",
    "\n",
    "name_of_file = (\"file.txt\")\n",
    "with open(name_of_file, 'rt') as f:\n",
    "    read_data = f.read ()\n",
    "    print(read_data)\n",
    "    print(read_data[3:29])\n",
    "\n",
    "# 'file' is the name of the file\n",
    "# 'rt' in the above function is the mode, r for read, t for text \n",
    "# f is now a link to this file \n",
    "\n",
    "    "
   ]
  },
  {
   "cell_type": "markdown",
   "metadata": {},
   "source": [
    "### Resources on files \n",
    "[W3 Schools Python File Open](https://www.w3schools.com/python/python_file_handling.asp)\\\n",
    "[Real Python Working With Files in Python](https://realpython.com/working-with-files-in-python/)\\\n",
    "[Andrew's Jupyter nb on files](https://github.com/andrewbeattycourseware/pands-course-material/blob/main/jupyternotebooks/topic07-files.ipynb)\n",
    "***************"
   ]
  },
  {
   "cell_type": "code",
   "execution_count": 11,
   "metadata": {},
   "outputs": [
    {
     "name": "stdout",
     "output_type": "stream",
     "text": [
      "O\n",
      "k\n",
      " \n",
      "a\n",
      "b\n",
      "c\n",
      "d\n",
      "e\n",
      "f\n",
      "g\n",
      "h\n",
      "i\n",
      "j\n",
      "k\n",
      "l\n",
      "m\n",
      "n\n",
      "o\n",
      "p\n",
      "q\n",
      "r\n",
      "s\n",
      "t\n",
      "u\n",
      "v\n",
      "w\n",
      "x\n",
      "y\n",
      "z\n"
     ]
    }
   ],
   "source": [
    "for data in read_data:\n",
    "    print(data)"
   ]
  },
  {
   "cell_type": "code",
   "execution_count": 12,
   "metadata": {},
   "outputs": [
    {
     "name": "stdout",
     "output_type": "stream",
     "text": [
      "Ok abcdefghijklmnopqrstuv\n"
     ]
    }
   ],
   "source": [
    "print(read_data[:-4])"
   ]
  },
  {
   "cell_type": "code",
   "execution_count": 21,
   "metadata": {},
   "outputs": [
    {
     "name": "stdout",
     "output_type": "stream",
     "text": [
      "Officer's log starddate \n"
     ]
    }
   ],
   "source": [
    "#If I want to write to a file:\n",
    "\n",
    "with open(name_of_file, \"wt\") as g:\n",
    "    g.write(\"Officer's log starddate \")\n",
    "#Mode \"w\" for write will overwrite what is already in the file \n",
    "\n",
    "with open(name_of_file, 'rt') as f:\n",
    "    read_data = f.read ()\n",
    "    print(read_data)\n",
    "\n"
   ]
  },
  {
   "cell_type": "code",
   "execution_count": 22,
   "metadata": {},
   "outputs": [
    {
     "name": "stdout",
     "output_type": "stream",
     "text": [
      "Officer's log starddate 4679.2. We are currently orbiting an uninhabited planet in the Gamma Sector.\n"
     ]
    }
   ],
   "source": [
    "with open(name_of_file, \"at\") as h:\n",
    "    h.write(\"4679.2. We are currently orbiting an uninhabited planet in the Gamma Sector.\")\n",
    "# mode \"a\" appends to the file \n",
    "\n",
    "with open(name_of_file, 'rt') as f:\n",
    "    read_data = f.read ()\n",
    "    print(read_data)"
   ]
  },
  {
   "cell_type": "code",
   "execution_count": 27,
   "metadata": {},
   "outputs": [
    {
     "name": "stdout",
     "output_type": "stream",
     "text": [
      "These are the voyages of the Starship Enterprise\n"
     ]
    }
   ],
   "source": [
    "# To open the file in read and write mode:\n",
    "with open(name_of_file, 'w+') as i:\n",
    "    i.write(\"These are the voyages of the Starship Enterprise\")\n",
    "    i.seek(0) #Move file pointer to beginning of file before read command\n",
    "    read_data = i.read()\n",
    "    \n",
    "    print(read_data)\n"
   ]
  },
  {
   "cell_type": "markdown",
   "metadata": {},
   "source": [
    "## The OS Module\n",
    "*****\n",
    "- Check if a file exists os.path.exists() \n",
    "- Remove a file os.remove()\n",
    "- Create a directory\n",
    "<br>\n",
    "\n",
    "[Documentation for OS](https://docs.python.org/3/library/os.html)"
   ]
  },
  {
   "cell_type": "code",
   "execution_count": 28,
   "metadata": {},
   "outputs": [
    {
     "name": "stdout",
     "output_type": "stream",
     "text": [
      "file.txt exists\n"
     ]
    }
   ],
   "source": [
    "import os\n",
    "\n",
    "if os.path.exists(name_of_file):\n",
    "    print(f\"{name_of_file} exists\")\n",
    "    "
   ]
  },
  {
   "cell_type": "code",
   "execution_count": 33,
   "metadata": {},
   "outputs": [
    {
     "name": "stdout",
     "output_type": "stream",
     "text": [
      "These are the voyages of the Starship Enterprise\n",
      " On its continuing mission to explore strange new worlds\n"
     ]
    }
   ],
   "source": [
    "if os.path.exists(name_of_file):\n",
    "    with open(name_of_file, 'a+') as k:\n",
    "        k.write(\"\\n On its continuing mission to explore strange new worlds\")\n",
    "        k.seek(0)\n",
    "        read_k = k.read()\n",
    "        print(read_k)\n",
    "else:\n",
    "    print(f\"{name_of_file} does not exist\")"
   ]
  },
  {
   "cell_type": "markdown",
   "metadata": {},
   "source": [
    "## File Formats\n",
    "*****\n",
    "### JSON Files\n",
    "JavaScript Object notation\\\n",
    "Article (more than you need to know!): [Working With JSON Data in Python](https://realpython.com/python-json/)\n",
    "*****"
   ]
  },
  {
   "cell_type": "code",
   "execution_count": 2,
   "metadata": {},
   "outputs": [
    {
     "name": "stdout",
     "output_type": "stream",
     "text": [
      "This file has been deleted\n"
     ]
    }
   ],
   "source": [
    "#Does the file exist already? If so delete it. \n",
    "import os \n",
    "\n",
    "if os.path.exists(\"store_entities.txt\"):\n",
    "    os.remove(\"store_entities.txt\")\n",
    "    print(\"This file has been deleted\")\n",
    "else:\n",
    "    print(\"This never existed\")"
   ]
  },
  {
   "cell_type": "code",
   "execution_count": 7,
   "metadata": {},
   "outputs": [
    {
     "name": "stdout",
     "output_type": "stream",
     "text": [
      "{\"the_lonely\": \"Martin\", \"the_eye\": \"Jon\", \"the_web\": \"Anabelle Cane\"}\n"
     ]
    }
   ],
   "source": [
    "import json\n",
    "\n",
    "#Format of JSON looks very like a dictionary\n",
    "\n",
    "tma_entities = {\n",
    "    \"the_lonely\" : \"Martin\",\n",
    "    \"the_eye\" : \"Jon\",\n",
    "    \"the_web\" : \"Anabelle Cane\",\n",
    "}\n",
    "\n",
    "#dump() saves a dict as JSON into a file\n",
    "#load() reads JSON from a file and returns a dict\n",
    "\n",
    "with open(\"store_entities.json\", \"w+\") as m:\n",
    "    json.dump(tma_entities, m) #writes the dictionary object into the file as a JSON object\n",
    "    m.seek(0) \n",
    "    read_entities = m.read()\n",
    "    print(read_entities)\n",
    "\n",
    "\n",
    "\n"
   ]
  },
  {
   "cell_type": "code",
   "execution_count": null,
   "metadata": {},
   "outputs": [],
   "source": []
  }
 ],
 "metadata": {
  "kernelspec": {
   "display_name": "base",
   "language": "python",
   "name": "python3"
  },
  "language_info": {
   "codemirror_mode": {
    "name": "ipython",
    "version": 3
   },
   "file_extension": ".py",
   "mimetype": "text/x-python",
   "name": "python",
   "nbconvert_exporter": "python",
   "pygments_lexer": "ipython3",
   "version": "3.11.5"
  }
 },
 "nbformat": 4,
 "nbformat_minor": 2
}
