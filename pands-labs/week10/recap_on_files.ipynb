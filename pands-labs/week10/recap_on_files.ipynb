{
 "cells": [
  {
   "cell_type": "code",
   "execution_count": 10,
   "metadata": {},
   "outputs": [],
   "source": [
    "with open (\"example_file.txt\", \"w+\") as f:\n",
    "    write_to_file = f.write(\"Something\")"
   ]
  },
  {
   "cell_type": "code",
   "execution_count": 13,
   "metadata": {},
   "outputs": [
    {
     "name": "stdout",
     "output_type": "stream",
     "text": [
      "Somethingsomething else\n"
     ]
    }
   ],
   "source": [
    "with open (\"example_file.txt\") as f:\n",
    "    read_the_file = f.read()\n",
    "    print(read_the_file)\n"
   ]
  },
  {
   "cell_type": "code",
   "execution_count": 12,
   "metadata": {},
   "outputs": [],
   "source": [
    "with open (\"example_file.txt\", \"a\") as f:\n",
    "    add_something_else = f.write(\"something else\")"
   ]
  },
  {
   "cell_type": "code",
   "execution_count": 16,
   "metadata": {},
   "outputs": [
    {
     "name": "stdout",
     "output_type": "stream",
     "text": [
      "Ngk he said\n"
     ]
    }
   ],
   "source": [
    "with open(\"example_file.txt\") as f:\n",
    "    whats_is_the_file = f.read()\n",
    "    print(whats_is_the_file)"
   ]
  },
  {
   "cell_type": "code",
   "execution_count": 17,
   "metadata": {},
   "outputs": [
    {
     "name": "stdout",
     "output_type": "stream",
     "text": [
      "Ngk he said\n"
     ]
    }
   ],
   "source": [
    "with open(\"example_file.txt\", \"w+\") as f:\n",
    "    overwrite_the_file = f.write(\"Ngk he said\")\n",
    "    f.seek(0)\n",
    "    whats_there_now = f.read()\n",
    "    print(whats_there_now)\n",
    "\n"
   ]
  }
 ],
 "metadata": {
  "kernelspec": {
   "display_name": "base",
   "language": "python",
   "name": "python3"
  },
  "language_info": {
   "codemirror_mode": {
    "name": "ipython",
    "version": 3
   },
   "file_extension": ".py",
   "mimetype": "text/x-python",
   "name": "python",
   "nbconvert_exporter": "python",
   "pygments_lexer": "ipython3",
   "version": "3.11.5"
  }
 },
 "nbformat": 4,
 "nbformat_minor": 2
}
