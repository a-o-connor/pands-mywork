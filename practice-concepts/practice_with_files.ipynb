{
 "cells": [
  {
   "cell_type": "markdown",
   "metadata": {},
   "source": [
    "# Week 07: Files \n",
    "****"
   ]
  },
  {
   "cell_type": "code",
   "execution_count": 1,
   "metadata": {},
   "outputs": [
    {
     "name": "stdout",
     "output_type": "stream",
     "text": [
      "Officer's Log Stardate 4239.2. We are orbiting a class m planet in the Gamma Quadrant.\n",
      "icer's Log Stardate 4239.2\n"
     ]
    }
   ],
   "source": [
    "#Opening a file in python in same directory \n",
    "#Use the with pattern\n",
    "\n",
    "name_of_file = (\"file.txt\")\n",
    "with open (name_of_file, \"w\") as a:\n",
    "    a.write(\"Officer's Log Stardate 4239.2. We are orbiting a class m planet in the Gamma Quadrant.\")\n",
    "with open(name_of_file, 'rt') as f:\n",
    "    read_data = f.read ()\n",
    "    print(read_data)\n",
    "    print(read_data[3:29])\n",
    "\n",
    "# 'file' is the name of the file\n",
    "# 'rt' in the above function is the mode, r for read, t for text \n",
    "# f is now a link to this file \n",
    "\n",
    "    "
   ]
  },
  {
   "cell_type": "markdown",
   "metadata": {},
   "source": [
    "### Resources on files \n",
    "[W3 Schools Python File Open](https://www.w3schools.com/python/python_file_handling.asp)\\\n",
    "[Real Python Working With Files in Python](https://realpython.com/working-with-files-in-python/)\\\n",
    "[Andrew's Jupyter nb on files](https://github.com/andrewbeattycourseware/pands-course-material/blob/main/jupyternotebooks/topic07-files.ipynb)\n",
    "***************"
   ]
  },
  {
   "cell_type": "code",
   "execution_count": 2,
   "metadata": {},
   "outputs": [
    {
     "name": "stdout",
     "output_type": "stream",
     "text": [
      "O\n",
      "f\n",
      "f\n",
      "i\n",
      "c\n",
      "e\n",
      "r\n",
      "'\n",
      "s\n",
      " \n",
      "L\n",
      "o\n",
      "g\n",
      " \n",
      "S\n",
      "t\n",
      "a\n",
      "r\n",
      "d\n",
      "a\n",
      "t\n",
      "e\n",
      " \n",
      "4\n",
      "2\n",
      "3\n",
      "9\n",
      ".\n",
      "2\n",
      ".\n",
      " \n",
      "W\n",
      "e\n",
      " \n",
      "a\n",
      "r\n",
      "e\n",
      " \n",
      "o\n",
      "r\n",
      "b\n",
      "i\n",
      "t\n",
      "i\n",
      "n\n",
      "g\n",
      " \n",
      "a\n",
      " \n",
      "c\n",
      "l\n",
      "a\n",
      "s\n",
      "s\n",
      " \n",
      "m\n",
      " \n",
      "p\n",
      "l\n",
      "a\n",
      "n\n",
      "e\n",
      "t\n",
      " \n",
      "i\n",
      "n\n",
      " \n",
      "t\n",
      "h\n",
      "e\n",
      " \n",
      "G\n",
      "a\n",
      "m\n",
      "m\n",
      "a\n",
      " \n",
      "Q\n",
      "u\n",
      "a\n",
      "d\n",
      "r\n",
      "a\n",
      "n\n",
      "t\n",
      ".\n"
     ]
    }
   ],
   "source": [
    "for data in read_data:\n",
    "    print(data)"
   ]
  },
  {
   "cell_type": "code",
   "execution_count": 3,
   "metadata": {},
   "outputs": [
    {
     "name": "stdout",
     "output_type": "stream",
     "text": [
      "Officer's Log Stardate 4239.2. We are orbiting a class m planet in the Gamma Quadr\n"
     ]
    }
   ],
   "source": [
    "print(read_data[:-4])"
   ]
  },
  {
   "cell_type": "code",
   "execution_count": 7,
   "metadata": {},
   "outputs": [
    {
     "name": "stdout",
     "output_type": "stream",
     "text": [
      "Officer's log stardate 4369.5. I have overwritten the previous data in this file.\n"
     ]
    }
   ],
   "source": [
    "#If I want to write to a file:\n",
    "\n",
    "with open(name_of_file, \"wt\") as g:\n",
    "    g.write(\"Officer's log stardate 4369.5. I have overwritten the previous data in this file.\")\n",
    "#Mode \"w\" for write will overwrite what is already in the file \n",
    "\n",
    "with open(name_of_file, 'rt') as f:\n",
    "    read_data = f.read ()\n",
    "    print(read_data)\n",
    "\n"
   ]
  },
  {
   "cell_type": "code",
   "execution_count": 8,
   "metadata": {},
   "outputs": [
    {
     "name": "stdout",
     "output_type": "stream",
     "text": [
      "Officer's log stardate 4369.5. I have overwritten the previous data in this file. We are currently orbiting an uninhabited planet in the Gamma Sector.\n"
     ]
    }
   ],
   "source": [
    "with open(name_of_file, \"at\") as h:\n",
    "    h.write(\" We are currently orbiting an uninhabited planet in the Gamma Sector.\")\n",
    "# mode \"a\" appends to the file \n",
    "\n",
    "with open(name_of_file, 'rt') as f:\n",
    "    read_data = f.read ()\n",
    "    print(read_data)"
   ]
  },
  {
   "cell_type": "code",
   "execution_count": 9,
   "metadata": {},
   "outputs": [
    {
     "name": "stdout",
     "output_type": "stream",
     "text": [
      "These are the voyages of the Starship Enterprise\n"
     ]
    }
   ],
   "source": [
    "# To open the file in read and write mode:\n",
    "with open(name_of_file, 'w+') as i:\n",
    "    i.write(\"These are the voyages of the Starship Enterprise\")\n",
    "    i.seek(0) #Move file pointer to beginning of file before read command\n",
    "    read_data = i.read()\n",
    "    \n",
    "    print(read_data)\n"
   ]
  },
  {
   "cell_type": "markdown",
   "metadata": {},
   "source": [
    "## The OS Module\n",
    "*****\n",
    "- Check if a file exists os.path.exists() \n",
    "- Remove a file os.remove()\n",
    "- Create a directory\n",
    "<br>\n",
    "\n",
    "[Documentation for OS](https://docs.python.org/3/library/os.html)"
   ]
  },
  {
   "cell_type": "code",
   "execution_count": 11,
   "metadata": {},
   "outputs": [
    {
     "name": "stdout",
     "output_type": "stream",
     "text": [
      "file.txt exists\n"
     ]
    }
   ],
   "source": [
    "import os\n",
    "\n",
    "if os.path.exists(name_of_file):\n",
    "    print(f\"{name_of_file} exists\")\n",
    "    "
   ]
  },
  {
   "cell_type": "code",
   "execution_count": 12,
   "metadata": {},
   "outputs": [
    {
     "name": "stdout",
     "output_type": "stream",
     "text": [
      "These are the voyages of the Starship Enterprise\n",
      " On its continuing mission to explore strange new worlds\n"
     ]
    }
   ],
   "source": [
    "if os.path.exists(name_of_file):\n",
    "    with open(name_of_file, 'a+') as k:\n",
    "        k.write(\"\\n On its continuing mission to explore strange new worlds\")\n",
    "        k.seek(0)\n",
    "        read_k = k.read()\n",
    "        print(read_k)\n",
    "else:\n",
    "    print(f\"{name_of_file} does not exist\")"
   ]
  },
  {
   "cell_type": "markdown",
   "metadata": {},
   "source": [
    "## File Formats\n",
    "*****\n",
    "### JSON Files\n",
    "JavaScript Object notation\\\n",
    "Article (more than you need to know!): [Working With JSON Data in Python](https://realpython.com/python-json/)\n",
    "*****"
   ]
  },
  {
   "cell_type": "code",
   "execution_count": 13,
   "metadata": {},
   "outputs": [
    {
     "name": "stdout",
     "output_type": "stream",
     "text": [
      "This never existed\n"
     ]
    }
   ],
   "source": [
    "#Does the file exist already? If so delete it. \n",
    "import os \n",
    "\n",
    "if os.path.exists(\"store_entities.txt\"):\n",
    "    os.remove(\"store_entities.txt\")\n",
    "    print(\"This file has been deleted\")\n",
    "else:\n",
    "    print(\"This never existed\")"
   ]
  },
  {
   "cell_type": "code",
   "execution_count": 14,
   "metadata": {},
   "outputs": [
    {
     "name": "stdout",
     "output_type": "stream",
     "text": [
      "{\"the_lonely\": \"Martin\", \"the_eye\": \"Jon\", \"the_web\": \"Anabelle Cane\"}\n"
     ]
    }
   ],
   "source": [
    "import json\n",
    "\n",
    "#Format of JSON looks very like a dictionary\n",
    "\n",
    "tma_entities = {\n",
    "    \"the_lonely\" : \"Martin\",\n",
    "    \"the_eye\" : \"Jon\",\n",
    "    \"the_web\" : \"Anabelle Cane\",\n",
    "}\n",
    "\n",
    "#dump() saves a dict as JSON into a file\n",
    "#load() reads JSON from a file and returns a dict\n",
    "\n",
    "with open(\"store_entities.json\", \"w+\") as m:\n",
    "    json.dump(tma_entities, m) #writes the dictionary object into the file as a JSON object\n",
    "    m.seek(0) \n",
    "    read_entities = m.read()\n",
    "    print(read_entities)\n",
    "\n",
    "\n",
    "\n"
   ]
  },
  {
   "cell_type": "code",
   "execution_count": null,
   "metadata": {},
   "outputs": [],
   "source": [
    "#Create an empty file test-b.txt and write the words test b in it. \n",
    "with open(\"test-b.txt\", \"w+\") as f:\n",
    " data = f.write(\"test b\\n\") # returns the number of chars written\n",
    " f.seek(0)                  # Make sure to move the pointer back to the start of the doc \n",
    " f_read = f.read()            \n",
    " print(f_read)\n",
    " print (data)\n",
    "\n",
    "with open(\"test-b.txt\", \"w+\") as f2: # open file again\n",
    "   data2 = f2.write(\"another line\\n\") #returns number of chars\n",
    "   f2.seek(0)\n",
    "   f2_read = f2.read()\n",
    "   print(f2_read)                      #The first line has been overwritten because mode is w+\n",
    "   print (data2)\n",
    "\n",
    "\n",
    "with open(\"test-b.txt\", \"a+\") as f3: # open file again\n",
    "   data3 = f3.write(\"another another line\\n\")\n",
    "   f3.seek(0)\n",
    "   f3_read = f3.read()\n",
    "   print(f3_read) #The file has been appended to and not overwritten because mode is a+\n",
    "   print (data3)\n"
   ]
  },
  {
   "cell_type": "code",
   "execution_count": null,
   "metadata": {},
   "outputs": [
    {
     "name": "stdout",
     "output_type": "stream",
     "text": [
      "0\n"
     ]
    }
   ],
   "source": [
    "#Write an empty file with the number 0 in it\n",
    "with open(\"count.txt\", \"w+\") as f:\n",
    "        f.write(\"0\")\n",
    "        f.seek(0)\n",
    "        the_count = int(f.read())\n",
    "        print(the_count)"
   ]
  },
  {
   "cell_type": "code",
   "execution_count": null,
   "metadata": {},
   "outputs": [
    {
     "name": "stdout",
     "output_type": "stream",
     "text": [
      "1\n"
     ]
    }
   ],
   "source": [
    "# Write a function that takes in a number and overwrites a file with that number\n",
    "\n",
    "def overwrite_number(file, number):\n",
    "    with open(file, \"w+\") as f:\n",
    "        f.write(str(number))\n",
    "        f.seek(0)\n",
    "        the_count = int(f.read())\n",
    "        print(the_count)\n",
    "\n",
    "overwrite_number(\"count.txt\", 1)\n"
   ]
  },
  {
   "cell_type": "code",
   "execution_count": null,
   "metadata": {},
   "outputs": [
    {
     "name": "stdout",
     "output_type": "stream",
     "text": [
      "This has been run 2 times\n"
     ]
    },
    {
     "data": {
      "text/plain": [
       "2"
      ]
     },
     "metadata": {},
     "output_type": "display_data"
    }
   ],
   "source": [
    "# Write a program that, uses these two functions, to count how many times\n",
    "# the program has been run\n",
    "\n",
    "def read_number(file):\n",
    "    with open(file, \"r\") as f:\n",
    "        the_count = int(f.read())\n",
    "        return(the_count)\n",
    "\n",
    "read_number(\"count.txt\")\n",
    "\n",
    "def overwrite_number(file, number):\n",
    "    with open(file, \"w+\") as f:\n",
    "        f.write(str(number))\n",
    "        f.seek(0)\n",
    "        the_count = int(f.read())\n",
    "        return(the_count)\n",
    "\n",
    "overwrite_number(\"count.txt\", 1)\n",
    "\n",
    "num = read_number(\"count.txt\")\n",
    "num = num + 1\n",
    "print(f\"This has been run {str(num)} times\")\n",
    "overwrite_number(\"the_count.txt\", num)"
   ]
  },
  {
   "cell_type": "code",
   "execution_count": null,
   "metadata": {},
   "outputs": [
    {
     "name": "stdout",
     "output_type": "stream",
     "text": [
      "Creating file the_count.txt\n"
     ]
    }
   ],
   "source": [
    "#If file count.txt does not already exists\n",
    "#create a function that create the file (after checking if it exists)\n",
    "\n",
    "import os \n",
    "\n",
    "\n",
    "def makefile(filename):\n",
    "    with open(filename, \"w\") as f:\n",
    "        f.write(\"0\")\n",
    "    \n",
    "def overwritefile(filename):\n",
    "\n",
    "if not os.path.isfile(\"the_count.txt\"):\n",
    "    print(\"Creating file the_count.txt\")\n",
    "    makefile(\"the_count.txt\")\n",
    "else:\n",
    "    print(\"This file already exists!\")"
   ]
  },
  {
   "cell_type": "code",
   "execution_count": null,
   "metadata": {},
   "outputs": [],
   "source": [
    "# Write a function that will store a simple Dict to a file as JSON\n",
    "\n",
    "import json\n",
    "\n",
    "goncharov = {\n",
    "    \"year\": \"1973\",\n",
    "    \"director\":\"matteo JHWJ0715\",\n",
    "    \"producer\":\"Martin Scorsese\"\n",
    "}\n",
    "\n",
    "\n",
    "with open (\"Goncharov (1973).json\", \"w\") as g:\n",
    "    json.dump(goncharov, g) #writes the dictionary object to the file as a JSON object\n"
   ]
  },
  {
   "cell_type": "code",
   "execution_count": null,
   "metadata": {},
   "outputs": [
    {
     "name": "stdout",
     "output_type": "stream",
     "text": [
      "{'year': '1973', 'director': 'matteo JHWJ0715', 'producer': 'Martin Scorsese'}\n"
     ]
    }
   ],
   "source": [
    "#read in a dict object from the file\n",
    "\n",
    "def read_dict(filename):\n",
    "    with open (filename, \"r\") as f:\n",
    "        gonch = json.load(f)\n",
    "        print(gonch)\n",
    "\n",
    "read_dict(\"Goncharov (1973).json\")\n",
    "\n",
    " \n"
   ]
  }
 ],
 "metadata": {
  "kernelspec": {
   "display_name": "base",
   "language": "python",
   "name": "python3"
  },
  "language_info": {
   "codemirror_mode": {
    "name": "ipython",
    "version": 3
   },
   "file_extension": ".py",
   "mimetype": "text/x-python",
   "name": "python",
   "nbconvert_exporter": "python",
   "pygments_lexer": "ipython3",
   "version": "3.11.5"
  }
 },
 "nbformat": 4,
 "nbformat_minor": 2
}
